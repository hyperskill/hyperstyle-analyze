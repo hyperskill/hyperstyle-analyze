{
 "cells": [
  {
   "cell_type": "markdown",
   "id": "1fdda50a",
   "metadata": {},
   "source": [
    "# Validation of template errors search using manually found issues"
   ]
  },
  {
   "cell_type": "markdown",
   "id": "d8634151",
   "metadata": {},
   "source": [
    "## Settings"
   ]
  },
  {
   "cell_type": "code",
   "execution_count": 1,
   "id": "cb34ac94",
   "metadata": {},
   "outputs": [],
   "source": [
    "import pandas as pd\n",
    "import matplotlib.pyplot as plt"
   ]
  },
  {
   "cell_type": "code",
   "execution_count": 2,
   "id": "8a5e1ecc",
   "metadata": {},
   "outputs": [],
   "source": [
    "# Set path to following csv files\n",
    "\n",
    "auto_filepath = ''\n",
    "manual_filepath = ''"
   ]
  },
  {
   "cell_type": "code",
   "execution_count": 3,
   "id": "0adee0d0",
   "metadata": {},
   "outputs": [],
   "source": [
    "# Setting parameters\n",
    "\n",
    "ignore_issues = []\n",
    "ignore_frequency = 0.05"
   ]
  },
  {
   "cell_type": "code",
   "execution_count": 4,
   "id": "dd916312",
   "metadata": {},
   "outputs": [],
   "source": [
    "df_auto = pd.read_csv(auto_filepath)\n",
    "df_manual = pd.read_csv(manual_filepath)\n",
    "\n",
    "# Filtering manual dataset\n",
    "\n",
    "df_manual = df_manual[df_manual['Type'] == 'template']\n",
    "df_manual['Issue'] = df_manual['Issue.1']\n",
    "df_manual['Line'] = df_manual['Template\\r\\nCode\\r\\nLine']\n",
    "df_manual = df_manual[['Step id', 'Issue', 'Line', '%']]\n",
    "df_manual.rename(columns={\n",
    "    'Step id': 'step_id', \n",
    "    'Issue': 'origin_class', \n",
    "    'Line': 'pos_in_template', \n",
    "    '%': 'frequency',\n",
    "}, inplace=True)\n",
    "\n",
    "# Filtering auto dataset\n",
    "\n",
    "df_auto = df_auto[df_auto['step_id'].isin(df_manual['step_id'].unique())]\n",
    "df_auto['pos_in_template'] = df_auto['pos_in_template'].map(lambda x: x + 1)\n",
    "\n",
    "# Dropping out invalid issues\n",
    "\n",
    "df_auto = df_auto[~df_auto['origin_class'].isin(ignore_issues)]\n",
    "df_manual = df_manual[~df_manual['origin_class'].isin(ignore_issues)]\n",
    "\n",
    "df_auto = df_auto[df_auto['frequency'] > ignore_frequency]\n",
    "df_manual = df_manual[df_manual['frequency'] > ignore_frequency]\n",
    "\n",
    "df_auto = df_auto[~df_auto['pos_in_template'].isna()]\n",
    "df_manual = df_manual[~df_manual['pos_in_template'].isna()]"
   ]
  },
  {
   "cell_type": "code",
   "execution_count": 5,
   "id": "bcd4a6a1",
   "metadata": {},
   "outputs": [],
   "source": [
    "def parse_pos_in_template(x: str):\n",
    "    \"\"\"\n",
    "    Interpret sequence entries like '57-59', '89,91', '-', etc.\n",
    "    Examples:\n",
    "    '57-59' -> [57, 58, 59]\n",
    "    '89,91' -> [89, 91]\n",
    "    '31'    -> [31]\n",
    "    '-'     -> []\n",
    "    \"\"\"\n",
    "    \n",
    "    if x == 'nan' or x == '-':\n",
    "        return []\n",
    "    positions = [s.strip() for s in x.split(',')]\n",
    "    res = []\n",
    "    for pos in positions:\n",
    "        s = pos.split('-')\n",
    "        if len(s) > 1:\n",
    "            res += list(range(int(s[0]), int(s[1]) + 1))\n",
    "        else:\n",
    "            res.append(int(s[0]))\n",
    "    return res\n",
    "\n",
    "\n",
    "def get_unique_pairs(df: pd.DataFrame, first_col: str, second_col: str):\n",
    "    return df.loc[:, [first_col, second_col]].drop_duplicates().values\n",
    "\n",
    "\n",
    "def broadcast(df: pd.DataFrame):\n",
    "    \"\"\"\n",
    "    Construct new dataframe where issues with compound position in template are represented as multiple issues.\n",
    "    \n",
    "    step_id | origin_class | pos_in_template | frequency      step_id | origin_class | pos_in_template | frequency\n",
    "    ----------------------------------------------------      ----------------------------------------------------\n",
    "    3830    | MagicNumber  | 45-47           | 0.84       ->  3830    | MagicNumber  | 45              | 0.84     \n",
    "    ...     | ...          | ...             | ...            3830    | MagicNumber  | 46              | 0.84     \n",
    "                                                              3830    | MagicNumber  | 47              | 0.84     \n",
    "                                                              ...     | ...          | ...             | ...      \n",
    "    \"\"\"\n",
    "    df = df.copy()\n",
    "    df['pos_in_template'] = df['pos_in_template'].map(lambda x: parse_pos_in_template(str(x)))\n",
    "    df_broadcasted = pd.DataFrame()\n",
    "    for row in df.iterrows():\n",
    "        for p in row[1]['pos_in_template']:\n",
    "            new_row = pd.DataFrame({\n",
    "                'step_id': [row[1]['step_id']], \n",
    "                'origin_class': [row[1]['origin_class']], \n",
    "                'pos_in_template': [p], \n",
    "                'frequency': [row[1]['frequency']], \n",
    "            })\n",
    "            df_broadcasted = pd.concat([df_broadcasted, new_row], axis=0, ignore_index=True)\n",
    "    return df_broadcasted\n",
    "            \n",
    "\n",
    "def number(df: pd.DataFrame):\n",
    "    \"\"\"\n",
    "    Construct new dataframe where issues with same step id and class are merged and counted.\n",
    "    \n",
    "    step_id | origin_class | pos_in_template | frequency      step_id | origin_class | cnt \n",
    "    ----------------------------------------------------      ----------------------------\n",
    "    3830    | MagicNumber  | 45              | 0.84           3830    | MagicNumber  | 3  \n",
    "    3830    | MagicNumber  | 56              | 0.11       ->  ...     | ...          | ...\n",
    "    3830    | MagicNumber  | 72-74           | 0.36           \n",
    "    ...     | ...          | ...             | ...            \n",
    "    \"\"\"\n",
    "    df_numbered = pd.DataFrame()\n",
    "    for step_id, issue in get_unique_pairs(df, 'step_id', 'origin_class'):\n",
    "        cur_df = df[(df['step_id'] == step_id) & (df['origin_class'] == issue)]\n",
    "        df_numbered = pd.concat([df_numbered, pd.DataFrame({\n",
    "            'step_id': [step_id], \n",
    "            'origin_class': [issue],\n",
    "            'cnt': [len(cur_df)], \n",
    "        })], axis=0, ignore_index=True)\n",
    "    return df_numbered"
   ]
  },
  {
   "cell_type": "code",
   "execution_count": 6,
   "id": "cf7283c7",
   "metadata": {
    "scrolled": false
   },
   "outputs": [],
   "source": [
    "def print_stats(all_manual_cnt, all_auto_cnt, matched_cnt, manual_only_cnt, auto_only_cnt):\n",
    "    print(f'''\n",
    "    manual total cnt: {all_manual_cnt}\n",
    "    auto total cnt: {all_auto_cnt}\n",
    "    manual and auto found: {matched_cnt}\n",
    "    manual only found: {manual_only_cnt}\n",
    "    auto only found: {auto_only_cnt}\n",
    "    (manual & auto) / (all manual): {matched_cnt / all_manual_cnt}\n",
    "    (auto only found) / (all auto): {auto_only_cnt / all_auto_cnt}\n",
    "    ''')\n",
    "\n",
    "    \n",
    "# Various validation functions\n",
    "    \n",
    "def match(df_auto, df_manual):\n",
    "    df_manual = broadcast(df_manual.copy())\n",
    "    \n",
    "    matched_cnt, auto_only_cnt, manual_only_cnt = 0, 0, 0\n",
    "    all_auto_cnt, all_manual_cnt = len(df_auto), len(df_manual)\n",
    "    df_not_matched = pd.DataFrame()\n",
    "    \n",
    "    for step_id in df_manual['step_id'].unique():\n",
    "        df_manual_step = df_manual[df_manual['step_id'] == step_id]\n",
    "        df_auto_step = df_auto[df_auto['step_id'] == step_id]\n",
    "        cur_cnt = 0\n",
    "        \n",
    "        for pos, issue in get_unique_pairs(df_manual_step, 'pos_in_template', 'origin_class'):\n",
    "            df_cur_auto = df_auto_step[(df_auto_step['pos_in_template'] == pos) & (df_auto_step['origin_class'] == issue)]\n",
    "            if len(df_cur_auto) > 0:\n",
    "                cur_cnt += 1\n",
    "            else:\n",
    "                manual_only_cnt += 1\n",
    "                df_not_matched = pd.concat([df_not_matched, pd.DataFrame({\n",
    "                    'step_id': [step_id], \n",
    "                    'origin_class': [issue], \n",
    "                    'pos_in_template': [pos]\n",
    "                })], axis=0, ignore_index=True)\n",
    "                \n",
    "        auto_only_cnt += len(df_auto_step) - cur_cnt\n",
    "        matched_cnt += cur_cnt\n",
    "        \n",
    "    print_stats(all_manual_cnt, all_auto_cnt, matched_cnt, manual_only_cnt, auto_only_cnt)\n",
    "    \n",
    "    return df_not_matched\n",
    "\n",
    "\n",
    "def match_numbered(df_auto: pd.DataFrame, df_manual: pd.DataFrame, mode: str = 'diff'):\n",
    "    modes = ['eq', 'diff']\n",
    "    if mode not in modes:\n",
    "        raise ValueError(f\"Unexpected mode: {mode}. Please select one of the following: {','.join([x for x in modes])}.\")\n",
    "    \n",
    "    df_auto = number(df_auto.copy())\n",
    "    df_manual = number(df_manual.copy())\n",
    "    \n",
    "    matched_cnt, auto_only_cnt, manual_only_cnt = 0, 0, 0\n",
    "    if mode == 'eq':\n",
    "        all_auto_cnt, all_manual_cnt = len(df_auto), len(df_manual)\n",
    "    elif mode == 'diff':\n",
    "        all_auto_cnt, all_manual_cnt = df_auto['cnt'].sum(), df_manual['cnt'].sum()\n",
    "    df_not_matched = pd.DataFrame()\n",
    "    \n",
    "    for step_id in df_auto['step_id'].unique():\n",
    "        df_manual_step = df_manual[df_manual['step_id'] == step_id]\n",
    "        df_auto_step = df_auto[df_auto['step_id'] == step_id]\n",
    "        cur_cnt = 0\n",
    "        \n",
    "        for issue, cnt in get_unique_pairs(df_manual_step, 'origin_class', 'cnt'):\n",
    "            if mode == 'eq':\n",
    "                df_cur_auto = df_auto_step[(df_auto_step['origin_class'] == issue) & (df_auto_step['cnt'] == cnt)]\n",
    "                if len(df_cur_auto) > 0:\n",
    "                    cur_cnt += 1\n",
    "                else:\n",
    "                    manual_only_cnt += 1\n",
    "                    df_not_matched = pd.concat([df_not_matched, pd.DataFrame({\n",
    "                        'step_id': [step_id], \n",
    "                        'origin_class': [issue], \n",
    "                        'cnt': [cnt]\n",
    "                    })], axis=0, ignore_index=True)\n",
    "            elif mode == 'diff':\n",
    "                df_cur_auto = df_auto_step[df_auto_step['origin_class'] == issue]\n",
    "                if len(df_cur_auto) > 0:\n",
    "                    auto_cnt = df_cur_auto.iloc[0,2]\n",
    "                    cur_cnt += min(cnt, auto_cnt)\n",
    "                    if auto_cnt > cnt:\n",
    "                        auto_only_cnt += auto_cnt - cnt\n",
    "                    elif auto_cnt < cnt:\n",
    "                        manual_only_cnt += cnt - auto_cnt\n",
    "                        df_not_matched = pd.concat([df_not_matched, pd.DataFrame({\n",
    "                            'step_id': [step_id], \n",
    "                            'origin_class': [issue], \n",
    "                            'cnt': [cnt - auto_cnt]\n",
    "                        })], axis=0, ignore_index=True)\n",
    "                else:\n",
    "                    manual_only_cnt += cnt\n",
    "                    \n",
    "        if mode == 'eq':\n",
    "            auto_only_cnt += len(df_auto_step) - cur_cnt\n",
    "            matched_cnt += cur_cnt\n",
    "        elif mode == 'diff':\n",
    "            for issue in df_auto_step[~df_auto_step['origin_class'].isin(df_manual_step['origin_class'].unique())]['origin_class'].unique():\n",
    "                df_cur_auto = df_auto_step[df_auto_step['origin_class'] == issue]\n",
    "                if len(df_cur_auto) > 0:\n",
    "                    auto_only_cnt += df_cur_auto.iloc[0,2]\n",
    "            matched_cnt += cur_cnt\n",
    "                    \n",
    "    print_stats(all_manual_cnt, all_auto_cnt, matched_cnt, manual_only_cnt, auto_only_cnt)\n",
    "    \n",
    "    return df_not_matched\n",
    "\n",
    "\n",
    "def match_sets(df_auto, df_manual):\n",
    "    df_auto = number(df_auto.copy())\n",
    "    df_manual = number(df_manual.copy())\n",
    "    \n",
    "    matched_cnt, auto_only_cnt, manual_only_cnt = 0, 0, 0\n",
    "    all_auto_cnt, all_manual_cnt = len(df_auto), len(df_manual)\n",
    "    df_not_matched = pd.DataFrame()\n",
    "\n",
    "    for step_id in df_manual['step_id'].unique():\n",
    "        df_manual_step = df_manual[df_manual['step_id'] == step_id]\n",
    "        df_auto_step = df_auto[df_auto['step_id'] == step_id]\n",
    "        cur_cnt = 0\n",
    "\n",
    "        for issue in df_manual_step['origin_class'].unique():\n",
    "            df_cur_auto = df_auto_step[df_auto_step['origin_class'] == issue]\n",
    "            if len(df_cur_auto) > 0:\n",
    "                matched_cnt += 1\n",
    "            else:\n",
    "                manual_only_cnt += 1\n",
    "                df_not_matched = pd.concat([df_not_matched, pd.DataFrame({\n",
    "                    'step_id': [step_id], \n",
    "                    'origin_class': [issue]\n",
    "                })], axis=0, ignore_index=True)\n",
    "\n",
    "        for issue in df_auto_step[~df_auto_step['origin_class'].isin(df_manual_step['origin_class'].unique())]['origin_class'].unique():\n",
    "            auto_only_cnt += 1\n",
    "            \n",
    "    print_stats(all_manual_cnt, all_auto_cnt, matched_cnt, manual_only_cnt, auto_only_cnt)\n",
    "    \n",
    "    return df_not_matched"
   ]
  },
  {
   "cell_type": "markdown",
   "id": "c36e3594",
   "metadata": {},
   "source": [
    "## General statistics on datasets"
   ]
  },
  {
   "cell_type": "code",
   "execution_count": 7,
   "id": "500962ff",
   "metadata": {},
   "outputs": [
    {
     "name": "stdout",
     "output_type": "stream",
     "text": [
      "Number of steps: 37\n"
     ]
    }
   ],
   "source": [
    "steps_n = len(df_manual['step_id'].unique())\n",
    "\n",
    "print(f\"Number of steps: {steps_n}\")"
   ]
  },
  {
   "cell_type": "code",
   "execution_count": 8,
   "id": "1f16d4b7",
   "metadata": {},
   "outputs": [
    {
     "data": {
      "image/png": "[encoded data removed]",
      "text/plain": [
       "<Figure size 1152x504 with 1 Axes>"
      ]
     },
     "metadata": {
      "needs_background": "light"
     },
     "output_type": "display_data"
    }
   ],
   "source": [
    "plt.figure(figsize=(16, 7))\n",
    "plt.hist([df_auto.sort_values(by='step_id')['step_id'].map(lambda x: str(int(x))), \n",
    "    df_manual.sort_values(by='step_id')['step_id'].map(lambda x: str(int(x)))], \n",
    "         bins=steps_n, label=['auto', 'manual'])\n",
    "plt.xticks(rotation=45, ha=\"right\", rotation_mode='anchor')\n",
    "plt.legend()\n",
    "plt.title('Issues distribution by step id')\n",
    "plt.xlabel('step id')\n",
    "plt.ylabel('number of issues')\n",
    "plt.show()"
   ]
  },
  {
   "cell_type": "code",
   "execution_count": 9,
   "id": "c3134d15",
   "metadata": {
    "scrolled": true
   },
   "outputs": [
    {
     "name": "stdout",
     "output_type": "stream",
     "text": [
      "Frequency of issues detected automatically:\n"
     ]
    },
    {
     "data": {
      "text/plain": [
       "count    113.000000\n",
       "mean       0.738577\n",
       "std        0.266728\n",
       "min        0.065844\n",
       "25%        0.633423\n",
       "50%        0.828508\n",
       "75%        0.959569\n",
       "max        0.998742\n",
       "Name: frequency, dtype: float64"
      ]
     },
     "metadata": {},
     "output_type": "display_data"
    }
   ],
   "source": [
    "print('Frequency of issues detected automatically:')\n",
    "display(df_auto['frequency'].describe())"
   ]
  },
  {
   "cell_type": "code",
   "execution_count": 10,
   "id": "32fcdb8f",
   "metadata": {
    "scrolled": true
   },
   "outputs": [
    {
     "name": "stdout",
     "output_type": "stream",
     "text": [
      "Frequency of issues detected manually:\n"
     ]
    },
    {
     "data": {
      "text/plain": [
       "count    49.000000\n",
       "mean      0.768163\n",
       "std       0.204315\n",
       "min       0.210000\n",
       "25%       0.700000\n",
       "50%       0.840000\n",
       "75%       0.910000\n",
       "max       1.000000\n",
       "Name: frequency, dtype: float64"
      ]
     },
     "metadata": {},
     "output_type": "display_data"
    }
   ],
   "source": [
    "print('Frequency of issues detected manually:')\n",
    "display(df_manual['frequency'].describe())"
   ]
  },
  {
   "cell_type": "markdown",
   "id": "b76b4cff",
   "metadata": {},
   "source": [
    "## Validation results"
   ]
  },
  {
   "cell_type": "code",
   "execution_count": 11,
   "id": "e40d8f25",
   "metadata": {},
   "outputs": [
    {
     "name": "stdout",
     "output_type": "stream",
     "text": [
      "Matching by step, issue and position in template with broadcasting manually found issues:\n",
      "\n",
      "    manual total cnt: 123\n",
      "    auto total cnt: 113\n",
      "    manual and auto found: 53\n",
      "    manual only found: 70\n",
      "    auto only found: 58\n",
      "    (manual & auto) / (all manual): 0.43089430894308944\n",
      "    (auto only found) / (all auto): 0.5132743362831859\n",
      "    \n"
     ]
    }
   ],
   "source": [
    "print('Matching by step, issue and position in template with broadcasting manually found issues:')\n",
    "df_not_matched = match(df_auto, df_manual)"
   ]
  },
  {
   "cell_type": "code",
   "execution_count": 12,
   "id": "c00f7158",
   "metadata": {
    "scrolled": true
   },
   "outputs": [
    {
     "name": "stdout",
     "output_type": "stream",
     "text": [
      "Matching by step, issue class and number of such issues, numberes must be exactly equal to match:\n",
      "\n",
      "    manual total cnt: 49\n",
      "    auto total cnt: 67\n",
      "    manual and auto found: 27\n",
      "    manual only found: 18\n",
      "    auto only found: 40\n",
      "    (manual & auto) / (all manual): 0.5510204081632653\n",
      "    (auto only found) / (all auto): 0.5970149253731343\n",
      "    \n"
     ]
    }
   ],
   "source": [
    "print('Matching by step, issue class and number of such issues, numberes must be exactly equal to match:')\n",
    "df_not_matched = match_numbered(df_auto, df_manual, mode='eq')"
   ]
  },
  {
   "cell_type": "code",
   "execution_count": 13,
   "id": "7446eccc",
   "metadata": {
    "scrolled": true
   },
   "outputs": [
    {
     "name": "stdout",
     "output_type": "stream",
     "text": [
      "Matching by step, issue class and number of such issues, considering difference between numbers:\n",
      "\n",
      "    manual total cnt: 49\n",
      "    auto total cnt: 113\n",
      "    manual and auto found: 42\n",
      "    manual only found: 3\n",
      "    auto only found: 71\n",
      "    (manual & auto) / (all manual): 0.8571428571428571\n",
      "    (auto only found) / (all auto): 0.6283185840707964\n",
      "    \n"
     ]
    }
   ],
   "source": [
    "print('Matching by step, issue class and number of such issues, considering difference between numbers:')\n",
    "df_not_matched = match_numbered(df_auto, df_manual, mode='diff')"
   ]
  },
  {
   "cell_type": "code",
   "execution_count": 14,
   "id": "e1989adc",
   "metadata": {},
   "outputs": [
    {
     "name": "stdout",
     "output_type": "stream",
     "text": [
      "Matching by step and issue class only:\n",
      "\n",
      "    manual total cnt: 49\n",
      "    auto total cnt: 67\n",
      "    manual and auto found: 42\n",
      "    manual only found: 7\n",
      "    auto only found: 25\n",
      "    (manual & auto) / (all manual): 0.8571428571428571\n",
      "    (auto only found) / (all auto): 0.373134328358209\n",
      "    \n"
     ]
    }
   ],
   "source": [
    "print('Matching by step and issue class only:')\n",
    "df_not_matched = match_sets(df_auto, df_manual)"
   ]
  }
 ],
 "metadata": {
  "kernelspec": {
   "display_name": "Python 3 (ipykernel)",
   "language": "python",
   "name": "python3"
  },
  "language_info": {
   "codemirror_mode": {
    "name": "ipython",
    "version": 3
   },
   "file_extension": ".py",
   "mimetype": "text/x-python",
   "name": "python",
   "nbconvert_exporter": "python",
   "pygments_lexer": "ipython3",
   "version": "3.8.10"
  }
 },
 "nbformat": 4,
 "nbformat_minor": 5
}
