{
 "cells": [
  {
   "cell_type": "code",
   "execution_count": 26,
   "metadata": {
    "collapsed": true
   },
   "outputs": [],
   "source": [
    "# Imports\n",
    "import os\n",
    "import sys\n",
    "\n",
    "root_path = os.path.abspath(os.path.join('..', '..', '..'))\n",
    "if root_path not in sys.path:\n",
    "    sys.path.append(root_path)\n",
    "\n",
    "from analysis.src.python.data_analysis.model.column_name import StepColumns\n",
    "from analysis.src.python.utils.df_utils import read_df, filter_df_by_single_value\n"
   ]
  },
  {
   "cell_type": "code",
   "execution_count": 27,
   "outputs": [],
   "source": [
    "# Setup paths to datasets\n",
    "\n",
    "BASE_PATH = \"ADD_THE_BASE_PATH_HERE\"\n",
    "\n",
    "STEPS_DATA = f\"{BASE_PATH}java/steps.csv\"\n",
    "USERS_DATA = f\"{BASE_PATH}java/users.csv\"\n",
    "SUBMISSIONS_DATA = f\"{BASE_PATH}java/solutions_java11.csv\""
   ],
   "metadata": {
    "collapsed": false,
    "pycharm": {
     "name": "#%%\n"
    }
   }
  },
  {
   "cell_type": "code",
   "execution_count": 28,
   "outputs": [],
   "source": [
    "# Upload all dataframes\n",
    "\n",
    "steps_df = read_df(STEPS_DATA)\n",
    "users_df = read_df(USERS_DATA)\n",
    "submissions_df = read_df(SUBMISSIONS_DATA)"
   ],
   "metadata": {
    "collapsed": false,
    "pycharm": {
     "name": "#%%\n"
    }
   }
  },
  {
   "cell_type": "code",
   "execution_count": 32,
   "outputs": [
    {
     "name": "stdout",
     "output_type": "stream",
     "text": [
      "Steps count: 415\n",
      "Users count: 37626\n",
      "Steps with template count: 415\n",
      "Submissions count initial: 1065579\n",
      "0    {'java17': 'class Main {\\n\\n    public static ...\n",
      "1    {'java17': 'class Main {\\n\\n    public static ...\n",
      "2    {'java17': 'class Main {\\n\\n    static void ma...\n",
      "3    {'java17': 'class Main {\\n\\n    public static ...\n",
      "4    {'java17': 'class Test {\\n\\n    public static ...\n",
      "Name: code_templates, dtype: object\n"
     ]
    }
   ],
   "source": [
    "# General statistics about the dataset\n",
    "\n",
    "def unique_values_by_column(df: pd.DataFrame, column: StepColumns) -> int:\n",
    "    return len(df[column.value].unique())\n",
    "\n",
    "steps_count = unique_values_by_column(steps_df, StepColumns.ID)\n",
    "users_count = unique_values_by_column(users_df, StepColumns.ID)\n",
    "\n",
    "print(f\"Steps count: {steps_count}\")\n",
    "print(f\"Users count: {users_count}\")\n",
    "\n",
    "steps_with_templates_df = filter_df_by_single_value(steps_df, StepColumns.HAS_TEMPLATE.value, True)\n",
    "steps_with_templates = unique_values_by_column(steps_with_templates_df, StepColumns.ID)\n",
    "\n",
    "print(f\"Steps with template count: {steps_with_templates}\")\n",
    "\n",
    "submissions_count_initial = unique_values_by_column(submissions_df, StepColumns.ID)\n",
    "print(f\"Submissions count initial: {submissions_count_initial}\")\n"
   ],
   "metadata": {
    "collapsed": false,
    "pycharm": {
     "name": "#%%\n"
    }
   }
  }
 ],
 "metadata": {
  "kernelspec": {
   "display_name": "Python 3",
   "language": "python",
   "name": "python3"
  },
  "language_info": {
   "codemirror_mode": {
    "name": "ipython",
    "version": 2
   },
   "file_extension": ".py",
   "mimetype": "text/x-python",
   "name": "python",
   "nbconvert_exporter": "python",
   "pygments_lexer": "ipython2",
   "version": "2.7.6"
  }
 },
 "nbformat": 4,
 "nbformat_minor": 0
}